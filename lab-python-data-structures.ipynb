{
 "cells": [
  {
   "cell_type": "markdown",
   "metadata": {
    "tags": []
   },
   "source": [
    "# Lab | Data Structures "
   ]
  },
  {
   "cell_type": "markdown",
   "metadata": {},
   "source": [
    "## Exercise: Managing Customer Orders\n",
    "\n",
    "As part of a business venture, you are starting an online store that sells various products. To ensure smooth operations, you need to develop a program that manages customer orders and inventory.\n",
    "\n",
    "Follow the steps below to complete the exercise:\n",
    "\n",
    "1. Define a list called `products` that contains the following items: \"t-shirt\", \"mug\", \"hat\", \"book\", \"keychain\".\n",
    "\n",
    "2. Create an empty dictionary called `inventory`.\n",
    "\n",
    "3. Ask the user to input the quantity of each product available in the inventory. Use the product names from the `products` list as keys in the `inventory` dictionary and assign the respective quantities as values.\n",
    "\n",
    "4. Create an empty set called `customer_orders`.\n",
    "\n",
    "5. Ask the user to input the name of three products that a customer wants to order (from those in the products list, meaning three products out of \"t-shirt\", \"mug\", \"hat\", \"book\" or \"keychain\". Add each product name to the `customer_orders` set.\n",
    "\n",
    "6. Print the products in the `customer_orders` set.\n",
    "\n",
    "7. Calculate the following order statistics:\n",
    "   - Total Products Ordered: The total number of products in the `customer_orders` set.\n",
    "   - Percentage of Products Ordered: The percentage of products ordered compared to the total available products.\n",
    "   \n",
    "   Store these statistics in a tuple called `order_status`.\n",
    "\n",
    "8. Print the order statistics using the following format:\n",
    "   ```\n",
    "   Order Statistics:\n",
    "   Total Products Ordered: <total_products_ordered>\n",
    "   Percentage of Products Ordered: <percentage_ordered>% \n",
    "   ```\n",
    "\n",
    "9. Update the inventory by subtracting 1 from the quantity of each product. Modify the `inventory` dictionary accordingly.\n",
    "\n",
    "10. Print the updated inventory, displaying the quantity of each product on separate lines.\n",
    "\n",
    "Solve the exercise by implementing the steps using the Python concepts of lists, dictionaries, sets, and basic input/output operations. "
   ]
  },
  {
   "cell_type": "code",
   "execution_count": 1,
   "metadata": {},
   "outputs": [
    {
     "name": "stdout",
     "output_type": "stream",
     "text": [
      "Número de camisetas: 25\n",
      "Número de tazas: 25\n",
      "Número de sombreros: 25\n",
      "Número de libros: 25\n",
      "Número de llaveros: 25\n",
      "Ingrese el nombre del producto 1 (sombrero, libro, taza, llavero, camiseta): taza\n",
      "Ingrese el nombre del producto 2 (sombrero, libro, taza, llavero, camiseta): libro\n",
      "Ingrese el nombre del producto 3 (sombrero, libro, taza, llavero, camiseta): perro\n",
      "Producto no válido. Por favor, ingrese uno de los productos especificados.\n",
      "Ingrese el nombre del producto 3 (sombrero, libro, taza, llavero, camiseta): camiseta\n",
      "\n",
      "Estadísticas del Pedido:\n",
      "Total de productos pedidos: 3\n",
      "Porcentaje de productos pedidos: 2.4%\n",
      "\n",
      "Inventario Actualizado:\n",
      "camiseta: 24\n",
      "taza: 24\n",
      "sombrero: 25\n",
      "libro: 24\n",
      "llavero: 25\n"
     ]
    }
   ],
   "source": [
    "productos = [\"camiseta\", \"taza\", \"sombrero\", \"libro\", \"llavero\"]\n",
    "inventario = {}\n",
    "\n",
    "camisetas = int(input('Número de camisetas: '))\n",
    "tazas = int(input('Número de tazas: '))\n",
    "sombreros = int(input('Número de sombreros: '))\n",
    "libros = int(input('Número de libros: '))\n",
    "llaveros = int(input('Número de llaveros: '))\n",
    "\n",
    "inventario.update({'camiseta': camisetas, 'taza': tazas, 'sombrero': sombreros, 'libro': libros, 'llavero': llaveros})\n",
    "\n",
    "pedido = set()\n",
    "\n",
    "for i in range(3):\n",
    "    producto = input(f\"Ingrese el nombre del producto {i + 1} (sombrero, libro, taza, llavero, camiseta): \").lower()\n",
    "\n",
    "    while producto not in ['sombrero', 'libro', 'taza', 'llavero', 'camiseta']:\n",
    "        print(\"Producto no válido. Por favor, ingrese uno de los productos especificados.\")\n",
    "        producto = input(f\"Ingrese el nombre del producto {i + 1} (sombrero, libro, taza, llavero, camiseta): \").lower()\n",
    "\n",
    "    pedido.add(producto)\n",
    "\n",
    "total_productos_pedidos = len(pedido)\n",
    "total_productos_disponibles = sum(inventario.values())\n",
    "porcentaje_pedidos = (total_productos_pedidos / total_productos_disponibles) * 100\n",
    "\n",
    "estado_pedido = (total_productos_pedidos, porcentaje_pedidos)\n",
    "\n",
    "print(\"\\nEstadísticas del Pedido:\")\n",
    "print(f\"Total de productos pedidos: {total_productos_pedidos}\")\n",
    "print(f\"Porcentaje de productos pedidos: {porcentaje_pedidos}%\")\n",
    "\n",
    "for producto in pedido:\n",
    "    inventario[producto] -= 1\n",
    "\n",
    "print(\"\\nInventario Actualizado:\")\n",
    "for producto, cantidad in inventario.items():\n",
    "    print(f\"{producto}: {cantidad}\")"
   ]
  },
  {
   "cell_type": "code",
   "execution_count": null,
   "metadata": {},
   "outputs": [],
   "source": []
  }
 ],
 "metadata": {
  "kernelspec": {
   "display_name": "Python 3 (ipykernel)",
   "language": "python",
   "name": "python3"
  },
  "language_info": {
   "codemirror_mode": {
    "name": "ipython",
    "version": 3
   },
   "file_extension": ".py",
   "mimetype": "text/x-python",
   "name": "python",
   "nbconvert_exporter": "python",
   "pygments_lexer": "ipython3",
   "version": "3.11.5"
  }
 },
 "nbformat": 4,
 "nbformat_minor": 4
}
